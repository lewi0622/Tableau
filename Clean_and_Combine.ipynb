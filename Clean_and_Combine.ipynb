{
 "cells": [
  {
   "cell_type": "code",
   "execution_count": null,
   "metadata": {},
   "outputs": [],
   "source": [
    "import pandas as pd\n",
    "import os"
   ]
  },
  {
   "cell_type": "code",
   "execution_count": null,
   "metadata": {},
   "outputs": [],
   "source": [
    "# get all files in folder\n",
    "raw_data_folder = r'raw_data'\n",
    "raw_data_files = [os.path.join(raw_data_folder, file) for file in os.listdir(raw_data_folder)]\n",
    "# read_csv for each one\n",
    "for file in raw_data_files:\n",
    "    df = pd.read_csv(file, parse_dates= ['starttime', 'stoptime'])\n",
    "    try:\n",
    "        combined_df = pd.concat([combined_df, df])\n",
    "    except:\n",
    "        combined_df = df"
   ]
  },
  {
   "cell_type": "code",
   "execution_count": null,
   "metadata": {},
   "outputs": [],
   "source": [
    "# drop rows that have empty data for station name/id\n",
    "print(len(combined_df))\n",
    "combined_df.dropna(subset=['start station name', 'end station name', 'start station id'], inplace=True)\n",
    "print(len(combined_df))"
   ]
  },
  {
   "cell_type": "code",
   "execution_count": null,
   "metadata": {},
   "outputs": [],
   "source": [
    "# write to one csv\n",
    "combined_df.to_csv('cleaned_data/combined.csv', index=False)"
   ]
  }
 ],
 "metadata": {
  "kernelspec": {
   "display_name": "Python 3",
   "language": "python",
   "name": "python3"
  },
  "language_info": {
   "codemirror_mode": {
    "name": "ipython",
    "version": 3
   },
   "file_extension": ".py",
   "mimetype": "text/x-python",
   "name": "python",
   "nbconvert_exporter": "python",
   "pygments_lexer": "ipython3",
   "version": "3.6.10"
  }
 },
 "nbformat": 4,
 "nbformat_minor": 4
}
